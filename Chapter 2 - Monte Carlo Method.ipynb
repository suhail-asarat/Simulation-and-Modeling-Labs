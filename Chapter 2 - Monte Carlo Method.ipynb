{
 "cells": [
  {
   "cell_type": "markdown",
   "metadata": {},
   "source": [
    "# Chapter 2 : Monte Carlo Method"
   ]
  },
  {
   "cell_type": "markdown",
   "metadata": {},
   "source": [
    "## Example 2.3 Numerical Integration by Monte Carlo Method"
   ]
  },
  {
   "cell_type": "markdown",
   "metadata": {},
   "source": [
    "Steps:  \n",
    "1. Take the equation  \n",
    "2. Calculate the actual area  \n",
    "3. Calculating with random numbers\n",
    "4. Evaluate"
   ]
  },
  {
   "cell_type": "code",
   "execution_count": 6,
   "metadata": {},
   "outputs": [
    {
     "name": "stdout",
     "output_type": "stream",
     "text": [
      "|    |   Random Number (x) |   x (0.1 * r) |   Random Number (y) |   y (140 * r) |     x^3 |   M |   N |\n",
      "|---:|--------------------:|--------------:|--------------------:|--------------:|--------:|----:|----:|\n",
      "|  0 |                  22 |           2.2 |                0.57 |          79.8 |  10.648 |   0 |   1 |\n",
      "|  1 |                  25 |           2.5 |                0.18 |          25.2 |  15.625 |   0 |   2 |\n",
      "|  2 |                  18 |           1.8 |                0    |           0   |   5.832 |   1 |   3 |\n",
      "|  3 |                  45 |           4.5 |                0.9  |         126   |  91.125 |   1 |   4 |\n",
      "|  4 |                  25 |           2.5 |                0.05 |           7   |  15.625 |   2 |   5 |\n",
      "|  5 |                  27 |           2.7 |                0.77 |         107.8 |  19.683 |   2 |   6 |\n",
      "|  6 |                  48 |           4.8 |                0.66 |          92.4 | 110.592 |   3 |   7 |\n",
      "|  7 |                  43 |           4.3 |                0.1  |          14   |  79.507 |   4 |   8 |\n",
      "|  8 |                  40 |           4   |                0.76 |         106.4 |  64     |   4 |   9 |\n",
      "|  9 |                  47 |           4.7 |                0.42 |          58.8 | 103.823 |   5 |  10 |\n",
      "| 10 |                  38 |           3.8 |                0.78 |         109.2 |  54.872 |   5 |  11 |\n",
      "| 11 |                  33 |           3.3 |                0.88 |         123.2 |  35.937 |   5 |  12 |\n",
      "| 12 |                  24 |           2.4 |                0.03 |           4.2 |  13.824 |   6 |  13 |\n",
      "| 13 |                  47 |           4.7 |                0.09 |          12.6 | 103.823 |   7 |  14 |\n",
      "| 14 |                  42 |           4.2 |                0.77 |         107.8 |  74.088 |   7 |  15 |\n",
      "| 15 |                  25 |           2.5 |                0.61 |          85.4 |  15.625 |   7 |  16 |\n",
      "| 16 |                  33 |           3.3 |                0.27 |          37.8 |  35.937 |   7 |  17 |\n",
      "| 17 |                  50 |           5   |                0.6  |          84   | 125     |   8 |  18 |\n",
      "| 18 |                  34 |           3.4 |                0.29 |          40.6 |  39.304 |   8 |  19 |\n",
      "| 19 |                  21 |           2.1 |                0.4  |          56   |   9.261 |   8 |  20 |\n",
      "\n",
      "Calculated value of integral = 168.00 \n",
      "Actual value of integral = 152.25 \n",
      "Error = 10.34 %\n"
     ]
    }
   ],
   "source": [
    "# importing packages\n",
    "import pandas as pd\n",
    "from tabulate import tabulate\n",
    "import sympy as sy\n",
    "\n",
    "# existing random numbers\n",
    "random_numbers_x = [22, 25, 18, 45, 25, 27, 48, 43, 40, 47, 38, 33, 24, 47, 42, 25, 33, 50, 34, 21]\n",
    "random_numbers_y = [.57, .18, .00, .90, .05, .77, .66, .10, .76, .42, .78, .88, .03, .09, .77, .61, .27, .60, .29, .40]\n",
    "\n",
    "# setting variables\n",
    "A = 140 * 3 # 420 ## our experiment area\n",
    "M = 0\n",
    "N = 0\n",
    "totalN = 20\n",
    "\n",
    "# setting data arrays\n",
    "x_values = [0] * totalN\n",
    "y_values = [0] * totalN\n",
    "f_x_values = [0] * totalN\n",
    "M_values = [0] * totalN\n",
    "N_values = [0] * totalN\n",
    "\n",
    "# defining the equation\n",
    "def f(x):\n",
    "  return x*x*x\n",
    "\n",
    "# calculating the actual value\n",
    "b = 5\n",
    "a = 2\n",
    "x = sy.Symbol(\"x\")\n",
    "result = sy.integrate(f(x), (x, a, b))\n",
    "\n",
    "# calculating\n",
    "for i in range (totalN):\n",
    "  x = random_numbers_x[i] / 10\n",
    "  y = random_numbers_y[i] * 140\n",
    "  f_x = f(x)\n",
    "  if (y <= f_x):\n",
    "    M += 1\n",
    "  N += 1\n",
    "\n",
    "  # inserting data into array\n",
    "  x_values[i] = x\n",
    "  y_values[i] = y\n",
    "  f_x_values[i] = f_x\n",
    "  M_values[i] = M\n",
    "  N_values[i] = N\n",
    "\n",
    "# building pandas DataFrame\n",
    "df = pd.DataFrame({\n",
    "  \"Random Number (x)\" : random_numbers_x,\n",
    "  \"x (0.1 * r)\" : x_values,\n",
    "  \"Random Number (y)\" : random_numbers_y,\n",
    "  \"y (140 * r)\" : y_values,\n",
    "  \"x^3\" : f_x_values,\n",
    "  \"M\" : M_values,\n",
    "  \"N\" : N_values\n",
    "})\n",
    "\n",
    "# tabulating from pandas DataFrame\n",
    "table = tabulate(\n",
    "  df,\n",
    "  headers='keys',\n",
    "  tablefmt='pipe'\n",
    ")\n",
    "\n",
    "# showing table\n",
    "print(table)\n",
    "\n",
    "# calculating and printing results\n",
    "I = (M / N) * A\n",
    "print(f\"\\nCalculated value of integral = {I:.2f} \\nActual value of integral = {result:.2f} \\nError = {(abs(I-result) / result) * 100:.2f} %\")\n"
   ]
  },
  {
   "cell_type": "code",
   "execution_count": null,
   "metadata": {},
   "outputs": [],
   "source": []
  }
 ],
 "metadata": {
  "kernelspec": {
   "display_name": "Python 3",
   "language": "python",
   "name": "python3"
  },
  "language_info": {
   "codemirror_mode": {
    "name": "ipython",
    "version": 3
   },
   "file_extension": ".py",
   "mimetype": "text/x-python",
   "name": "python",
   "nbconvert_exporter": "python",
   "pygments_lexer": "ipython3",
   "version": "3.13.2"
  }
 },
 "nbformat": 4,
 "nbformat_minor": 2
}
